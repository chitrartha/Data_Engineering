{
 "cells": [
  {
   "cell_type": "code",
   "execution_count": 231,
   "metadata": {},
   "outputs": [],
   "source": [
    "#Importing of the necessary packages and modules.\n",
    "\n",
    "import csv\n",
    "import math\n",
    "import statistics\n",
    "import matplotlib.pyplot as plt"
   ]
  },
  {
   "cell_type": "code",
   "execution_count": 232,
   "metadata": {},
   "outputs": [],
   "source": [
    "#Initiating variable which has path pf stroopdata file.\n",
    "data_file = \"./stroopdata (1).csv\"\n",
    "\n",
    "#reading of the stroopdata file.\n",
    "with open(data_file, 'r') as f_in:\n",
    "    file_reader = csv.DictReader(f_in)\n",
    "        \n",
    "    #Initiating blank lists\n",
    "    congruent = []\n",
    "    incongruent = []\n",
    "    for row in file_reader:\n",
    "        congruent.append(row['Congruent'])\n",
    "        incongruent.append(row['Incongruent'])\n",
    "            \n",
    "    #Converting each string type element of the list to int type.\n",
    "    congruent = [float(i) for i in congruent]\n",
    "    incongruent = [float(i) for i in incongruent]\n",
    "       "
   ]
  },
  {
   "cell_type": "code",
   "execution_count": 233,
   "metadata": {},
   "outputs": [],
   "source": [
    "def mean(input_list):\n",
    "    '''This function takes a list and calculates the mean of the list'''\n",
    "    no_of_element = len(input_list)\n",
    "    total = sum(input_list)\n",
    "    mean = total/no_of_element\n",
    "    return (mean)"
   ]
  },
  {
   "cell_type": "code",
   "execution_count": 234,
   "metadata": {},
   "outputs": [],
   "source": [
    "def std_dev(input_list):\n",
    "    '''This function takes a list and calculates the standard deviation of the list'''\n",
    "    avg = mean(input_list)\n",
    "    difference_square = [(i - avg)**2 for i in input_list]\n",
    "    std_dev = sum(difference_square)/(len(input_list) - 1)\n",
    "    return (math.sqrt(std_dev))"
   ]
  },
  {
   "cell_type": "code",
   "execution_count": 235,
   "metadata": {},
   "outputs": [],
   "source": [
    "def median(input_list):\n",
    "    '''This function takes a list and calculates the median of the list'''\n",
    "    median = statistics.median(input_list)\n",
    "    return (median) "
   ]
  },
  {
   "cell_type": "markdown",
   "metadata": {},
   "source": [
    "# Dependent and independent variables"
   ]
  },
  {
   "cell_type": "markdown",
   "metadata": {},
   "source": [
    "1)\n",
    "Dependent variable = Each participant will go through the word and time is recorded from each condition.\n",
    "\n",
    "Independent variable = participants are presented with a list of words, with each word displayed in a particular color of ink\n",
    "\n",
    "Treatment = congruent and incongruent conditions.\n"
   ]
  },
  {
   "cell_type": "markdown",
   "metadata": {},
   "source": [
    "# Hypothesis"
   ]
  },
  {
   "cell_type": "markdown",
   "metadata": {},
   "source": [
    "2)\n",
    "\n",
    "Null hypothesis:\n",
    "\n",
    "$H_{o}$= Time taken for the participant in congruent and incongruent conditions is equal.\n",
    "$u_{c} = u_{i}$ or \n",
    "\n",
    "\\begin{equation} \n",
    "%\n",
    "\\\\H_o: \\mu_{difference} = 0 \n",
    "%\n",
    "\\end{equation}\n",
    "\n",
    "\n",
    "Alternate hypothesis:\n",
    "\n",
    "$H_{A}$= In incongruent, naming the color of the word takes differs and is more prone to errors than when the color of the ink matches the name of the color.\n",
    "\n",
    "\\begin{equation} \n",
    "%\n",
    "\\\\H_A: \\mu_{difference} \\neq 0 \n",
    "%\n",
    "\\end{equation}\n",
    "\n",
    "Here, we will use 2 tailed dependent sample t-test to test the hypothesis in either direction. Since we only want to check if time taken by congruent method realluy differs from time taken by incongruent method.\n",
    "\n",
    "We use t-test here since sample size(24) is less than 30 and we dont know the population mean and standard deviation.\n",
    "\n",
    "The sample distribution looks normal for congruent, whereas there are few outliers for incongruent sample.\n",
    "\n",
    "We will be using dependent sample t-test because the test is within the subject.\n"
   ]
  },
  {
   "cell_type": "markdown",
   "metadata": {},
   "source": [
    "# Descriptive statistics and central tendency measure"
   ]
  },
  {
   "cell_type": "code",
   "execution_count": 236,
   "metadata": {},
   "outputs": [
    {
     "name": "stdout",
     "output_type": "stream",
     "text": [
      "The mean for the congruent method is :14.051125\n",
      "The SD for the congruent method is :3.5593579576451955\n",
      "The median for the congruent method is :14.3565\n"
     ]
    }
   ],
   "source": [
    "print(\"The mean for the congruent method is :{}\".format(mean(congruent)))\n",
    "print(\"The SD for the congruent method is :{}\".format(std_dev(congruent)))\n",
    "print(\"The median for the congruent method is :{}\".format(median(congruent)))\n"
   ]
  },
  {
   "cell_type": "code",
   "execution_count": 237,
   "metadata": {},
   "outputs": [
    {
     "name": "stdout",
     "output_type": "stream",
     "text": [
      "The mean for the incongruent method is :22.01591666666667\n",
      "The SD for the incongruent method is :4.797057122469138\n",
      "The median for the incongruent method is :21.0175\n"
     ]
    }
   ],
   "source": [
    "print(\"The mean for the incongruent method is :{}\".format(mean(incongruent)))\n",
    "print(\"The SD for the incongruent method is :{}\".format(std_dev(incongruent)))\n",
    "print(\"The median for the incongruent method is :{}\".format(median(incongruent)))"
   ]
  },
  {
   "cell_type": "markdown",
   "metadata": {},
   "source": [
    "3)\n",
    "Mean for the congruent test is = 14.05\n",
    "Mean for the incongruent test is = 22.01\n",
    "\n",
    "Median for the congruent test is = 14.35\n",
    "Median for the incongruent test is = 21.08\n",
    "\n",
    "The congruent test sampless are more normal and is less widespread as SD is 3.55.\n",
    "The incongruent test samples are more widespread as SD is 4.79.\n"
   ]
  },
  {
   "cell_type": "markdown",
   "metadata": {},
   "source": [
    "# Visualisation and observation from the plot"
   ]
  },
  {
   "cell_type": "code",
   "execution_count": 238,
   "metadata": {},
   "outputs": [
    {
     "data": {
      "image/png": "[encoded data removed]",
      "text/plain": [
       "<matplotlib.figure.Figure at 0x118642668>"
      ]
     },
     "metadata": {},
     "output_type": "display_data"
    },
    {
     "data": {
      "image/png": "[encoded data removed]",
      "text/plain": [
       "<matplotlib.figure.Figure at 0x117312fd0>"
      ]
     },
     "metadata": {},
     "output_type": "display_data"
    }
   ],
   "source": [
    "#Histogram plot of the congruent sample\n",
    "%matplotlib inline\n",
    "bins = [0,3,6,9,12,15,18,21,24,27]\n",
    "plt.hist(congruent,bins =bins)\n",
    "plt.title('Distribution of Time taken for congruent method')\n",
    "plt.xlabel('Duration (s)')\n",
    "plt.show()\n",
    "\n",
    "#Histogram plot of the incongruent sample\n",
    "%matplotlib inline\n",
    "bins = [15,18,21,24,27,30,33,36,39,42]\n",
    "plt.hist(incongruent,bins =bins)\n",
    "plt.title('Distribution of Time taken for Incongruent method')\n",
    "plt.xlabel('Duration (s)')\n",
    "plt.show()"
   ]
  },
  {
   "cell_type": "code",
   "execution_count": 239,
   "metadata": {},
   "outputs": [
    {
     "name": "stdout",
     "output_type": "stream",
     "text": [
      "The t_statistics is :-8.020706944109962\n"
     ]
    }
   ],
   "source": [
    "#getting the list of difference between values of sample\n",
    "diff_list = list(map(lambda c,i:c-i, congruent,incongruent))\n",
    "\n",
    "#Calculating Standard deviation difference.\n",
    "std_dev_diff = std_dev(diff_list)\n",
    "\n",
    "#n = 24//sample size\n",
    "sample_size = 24\n",
    "\n",
    "#degree of freedom\n",
    "dof = sample_size -1\n",
    "\n",
    "#standard error\n",
    "se_diff = std_dev_diff/math.sqrt(sample_size)\n",
    "\n",
    "#Calculating mean difference\n",
    "mean_diff = mean(congruent) - mean(incongruent)\n",
    "\n",
    "#Calculating t-statistics\n",
    "t_statistics = mean_diff/se\n",
    "print(\"The t_statistics is :{}\".format(t_statistics))"
   ]
  },
  {
   "cell_type": "markdown",
   "metadata": {},
   "source": [
    "The $t_{statistics}$  is far left in t-distribution curve.\n",
    "\n",
    "4)\n",
    "\n",
    "Also the congruent sample histograms looks more normal whreas the incongrunet hostograms is positively skewed."
   ]
  },
  {
   "cell_type": "markdown",
   "metadata": {},
   "source": [
    "Now for calculating ME we evaluate the ME at $t_{critical}$, if $alpha= 0.05$ for two-tailed test:"
   ]
  },
  {
   "cell_type": "markdown",
   "metadata": {},
   "source": [
    "# Statistical test and the results"
   ]
  },
  {
   "cell_type": "code",
   "execution_count": 240,
   "metadata": {},
   "outputs": [
    {
     "name": "stdout",
     "output_type": "stream",
     "text": [
      "The confidence interval is [-10.019367912023053, -5.910215421310283]\n",
      "The cohen'sd is -1.6372199491222634\n",
      "The r_2 is 0.7366364161445063\n"
     ]
    }
   ],
   "source": [
    "#Margin of Error = tcritical * SME\n",
    "#t_critical is 2.069 for 1 tailed teste at alpha = 0.05\n",
    "t_critical = 2.069\n",
    "margin_of_error = t_critical * se_diff\n",
    "\n",
    "#Confidence Interval, CI = [MD + ME, MD – ME]\n",
    "lower_bound = mean_diff + margin_of_error\n",
    "upper_bound = mean_diff - margin_of_error\n",
    "print(\"The confidence interval is [{}, {}]\".format(upper_bound, lower_bound))\n",
    "\n",
    "#Cohen’s D = MD/SD\n",
    "cohens_d = mean_diff/std_dev_diff\n",
    "print(\"The cohen'sd is {}\".format(cohens_d))\n",
    "\n",
    "#r^2(shows percentage variation in y which is explained by all the x variables together)\n",
    "r_2 =  t_statistics**2/(t_statistics**2 + dof)\n",
    "print(\"The r_2 is {}\".format(r_2))"
   ]
  },
  {
   "cell_type": "markdown",
   "metadata": {},
   "source": [
    "##### Therefor we can reject $H_{o}$ since CI is on extreme left where the probability will be almost 0 and \n",
    "also the $t_{statistics}$ << $t_{critical}$.\n",
    "\n",
    "We can conclude that HA (Alternate hypothesis) is true.\n",
    "\n",
    "It matches my expectation as majority of the candidates took longer in incongruent method.\n",
    "\n",
    "5)\n",
    "\n",
    "Result:\n",
    "\n",
    "t(24) = -8.02, p<.05, two-tailed\n",
    "\n",
    "95% CI(-10.019367912023053, -5.910215421310283)\n",
    "\n",
    "d=-1.64, r2=.73\n"
   ]
  },
  {
   "cell_type": "markdown",
   "metadata": {},
   "source": [
    "# Thoughts and similar tasks"
   ]
  },
  {
   "cell_type": "markdown",
   "metadata": {},
   "source": [
    "6)\n",
    "\n",
    "Theory: It becomes easier for human mind in congruent method because both the ink and the word are of same color, which enhances the human brain processing speed.\n",
    "\n",
    "Similar test result might occur for the below tests:\n",
    "\n",
    "Case1:\n",
    "1 + 1 =2\n",
    "2 + 3 =5\n",
    "6 + 1=7\n",
    "\n",
    "Case2:\n",
    "1 + 2 =10\n",
    "2 + 3 =3\n",
    "6 + 1 =5\n",
    "\n",
    "For the case1 sine the equations are true it becomes easier for my mind to process whereas in case2 the equation are false, and it should take more time.\n"
   ]
  },
  {
   "cell_type": "markdown",
   "metadata": {},
   "source": [
    "References:\n",
    "\n",
    "https://docs.python.org/3/library/statistics.html\n",
    "\n",
    "http://jupyter-notebook.readthedocs.io/en/stable/examples/Notebook/Typesetting%20Equations.html\n",
    "\n",
    "https://stackoverflow.com/questions/46011785/how-to-do-superscripts-and-subscripts-in-jupyter-notebook\n",
    "\n",
    "https://www.danielsoper.com/statcalc/calculator.aspx?id=8\n"
   ]
  },
  {
   "cell_type": "code",
   "execution_count": null,
   "metadata": {},
   "outputs": [],
   "source": []
  }
 ],
 "metadata": {
  "kernelspec": {
   "display_name": "Python 3",
   "language": "python",
   "name": "python3"
  },
  "language_info": {
   "codemirror_mode": {
    "name": "ipython",
    "version": 3
   },
   "file_extension": ".py",
   "mimetype": "text/x-python",
   "name": "python",
   "nbconvert_exporter": "python",
   "pygments_lexer": "ipython3",
   "version": "3.6.3"
  }
 },
 "nbformat": 4,
 "nbformat_minor": 2
}
